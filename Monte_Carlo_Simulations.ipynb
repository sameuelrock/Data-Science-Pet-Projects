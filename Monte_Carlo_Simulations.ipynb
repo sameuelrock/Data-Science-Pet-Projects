{
  "nbformat": 4,
  "nbformat_minor": 0,
  "metadata": {
    "colab": {
      "provenance": []
    },
    "kernelspec": {
      "name": "python3",
      "display_name": "Python 3"
    },
    "language_info": {
      "name": "python"
    }
  },
  "cells": [
    {
      "cell_type": "markdown",
      "source": [
        "## PART 1. Hacker Statistics\n",
        "Here, we use Monte Carlo Simulations to solve statistical problems\n",
        "### A. Random Walk\n",
        "This is where we simulate paths we may take based on logical rules programmed."
      ],
      "metadata": {
        "id": "XXiLZOBrx9kT"
      }
    },
    {
      "cell_type": "code",
      "execution_count": 1,
      "metadata": {
        "colab": {
          "base_uri": "https://localhost:8080/"
        },
        "id": "JhFDyO1ixwwP",
        "outputId": "a31cd39c-5841-495a-8e93-a14d661c2ab2"
      },
      "outputs": [
        {
          "output_type": "stream",
          "name": "stdout",
          "text": [
            "[0, 1, 0, 1, 2, 3, 2, 1, 0, 0, 0, 0, 1, 4, 5, 6, 10, 9, 8, 9, 10, 9, 8, 7, 8, 9, 10, 11, 12, 14, 19, 20, 21, 22, 23, 26, 27, 28, 29, 30, 31, 30, 31, 36, 35, 36, 38, 39, 38, 39, 40, 41, 40, 39, 38, 37, 36, 41, 40, 39, 38, 39, 38, 44, 48, 49, 48, 50, 51, 52, 53, 52, 54, 53, 54, 53, 58, 59, 60, 59, 60, 59, 60, 61, 62, 61, 62, 64, 63, 62, 63, 62, 65, 66, 67, 68, 67, 68, 67, 72, 73]\n"
          ]
        }
      ],
      "source": [
        "# NumPy is imported, seed is set\n",
        "import numpy as np\n",
        "np.random.seed(69) # this is just an arbitrary number where the pseudo-random algorithm is based on\n",
        "\n",
        "# Initialize random_walk\n",
        "random_walk = [0]\n",
        "\n",
        "# Complete the ___\n",
        "for x in range(100) :\n",
        "    # Set step: last element in random_walk\n",
        "    step = random_walk[-1]\n",
        "\n",
        "    # Roll the dice\n",
        "    dice = np.random.randint(1,7)\n",
        "\n",
        "    # Determine next step\n",
        "    if dice <= 2:\n",
        "        # Replace below: use max to make sure step can't go below 0\n",
        "        step = max(0, step - 1)\n",
        "    elif dice <= 5:\n",
        "        step = step + 1\n",
        "    else:\n",
        "        step = step + np.random.randint(1,7)\n",
        "\n",
        "    # append next_step to random_walk\n",
        "    random_walk.append(step)\n",
        "\n",
        "# Print random_walk\n",
        "print(random_walk)"
      ]
    },
    {
      "cell_type": "code",
      "source": [
        "# Graphing the random walk\n",
        "import matplotlib.pyplot as plt\n",
        "\n",
        "\n",
        "plt.plot(random_walk)\n",
        "plt.title('Random Walk based on dice')\n",
        "plt.ylabel('Distance from the origin')\n",
        "plt.xlabel('Number of steps taken')"
      ],
      "metadata": {
        "colab": {
          "base_uri": "https://localhost:8080/",
          "height": 312
        },
        "id": "6w6BFDcty_X0",
        "outputId": "6ae21564-11d4-487b-992a-b3f0c0ac2474"
      },
      "execution_count": 3,
      "outputs": [
        {
          "output_type": "execute_result",
          "data": {
            "text/plain": [
              "Text(0.5, 0, 'Number of steps taken')"
            ]
          },
          "metadata": {},
          "execution_count": 3
        },
        {
          "output_type": "display_data",
          "data": {
            "text/plain": [
              "<Figure size 432x288 with 1 Axes>"
            ],
            "image/png": "[encoded data removed]"
          },
          "metadata": {
            "needs_background": "light"
          }
        }
      ]
    },
    {
      "cell_type": "markdown",
      "source": [
        "### B. Random Distribution\n",
        "We can now aggregate multiple random walks to make a distribution."
      ],
      "metadata": {
        "id": "Y7EJGsd4zMUJ"
      }
    },
    {
      "cell_type": "code",
      "source": [
        "# Initialize all_walks (don't change this line)\n",
        "all_walks = []\n",
        "\n",
        "# Simulate random walk 10 times\n",
        "for i in range(10) :\n",
        "\n",
        "    # Code from before\n",
        "    random_walk = [0]\n",
        "    for x in range(100) :\n",
        "        step = random_walk[-1]\n",
        "        dice = np.random.randint(1,7)\n",
        "\n",
        "        if dice <= 2:\n",
        "            step = max(0, step - 1)\n",
        "        elif dice <= 5:\n",
        "            step = step + 1\n",
        "        else:\n",
        "            step = step + np.random.randint(1,7)\n",
        "        random_walk.append(step)\n",
        "\n",
        "    # Append random_walk to all_walks\n",
        "    all_walks.append(random_walk)\n",
        "\n",
        "# Print all_walks\n",
        "print(all_walks)"
      ],
      "metadata": {
        "id": "8bXtVLtszVUa"
      },
      "execution_count": null,
      "outputs": []
    },
    {
      "cell_type": "code",
      "source": [
        "# Convert all_walks to NumPy array: np_aw\n",
        "np_aw = np.array(all_walks)\n",
        "\n",
        "# Plot np_aw and show\n",
        "plt.plot(np_aw)\n",
        "plt.show()\n",
        "\n",
        "# Clear the figure\n",
        "plt.clf()\n",
        "\n",
        "# Transpose np_aw: np_aw_t\n",
        "np_aw_t = np.transpose(np_aw)\n",
        "\n",
        "# Plot np_aw_t and show\n",
        "plt.plot(np_aw_t)\n",
        "plt.title('Distribution of Random Walks')\n",
        "plt.ylabel('Distance from the origin')\n",
        "plt.xlabel('Number of steps taken')\n",
        "plt.show()"
      ],
      "metadata": {
        "id": "ESrRJ9gKzZ2w"
      },
      "execution_count": null,
      "outputs": []
    },
    {
      "cell_type": "code",
      "source": [
        "# Simulate random walk n times\n",
        "n = input('How many times do you want to simulate? ')\n",
        "all_walks = []\n",
        "for i in range(int(n)) :\n",
        "    random_walk = [0]\n",
        "    for x in range(100) :\n",
        "        step = random_walk[-1]\n",
        "        dice = np.random.randint(1,7)\n",
        "        if dice <= 2:\n",
        "            step = max(0, step - 1)\n",
        "        elif dice <= 5:\n",
        "            step = step + 1\n",
        "        else:\n",
        "            step = step + np.random.randint(1,7)\n",
        "\n",
        "        # Implement clumsiness\n",
        "        if np.random.rand() <= 0.001 : # there would be a small chance that the individual will fall from the tower and start over again\n",
        "            step = 0\n",
        "\n",
        "        random_walk.append(step)\n",
        "    all_walks.append(random_walk)\n",
        "\n",
        "# Create and plot np_aw_t\n",
        "np_aw_t = np.transpose(np.array(all_walks))\n",
        "plt.plot(np_aw_t)\n",
        "\n",
        "plt.title('Simulation of Random Walks')\n",
        "plt.ylabel('Distance from the origin')\n",
        "plt.xlabel('Number of steps taken')\n",
        "plt.show()"
      ],
      "metadata": {
        "id": "GCN147fcze7p"
      },
      "execution_count": null,
      "outputs": []
    },
    {
      "cell_type": "code",
      "source": [
        "# Select last row from np_aw_t: ends\n",
        "ends = np_aw_t[-1,:]\n",
        "\n",
        "# Plot histogram of ends, display plot\n",
        "plt.hist(ends)\n",
        "plt.title('Distribution of Random Walks')\n",
        "plt.ylabel('Distance from the origin')\n",
        "plt.xlabel('Number of Simulations')\n",
        "plt.show()"
      ],
      "metadata": {
        "id": "P_HTWFE5zjsA"
      },
      "execution_count": null,
      "outputs": []
    }
  ]
}